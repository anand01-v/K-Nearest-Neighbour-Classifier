{
 "cells": [
  {
   "cell_type": "markdown",
   "id": "adee1df7",
   "metadata": {},
   "source": [
    "    Implement a KNN model to classify the animals into categories."
   ]
  },
  {
   "cell_type": "markdown",
   "id": "76768701",
   "metadata": {},
   "source": [
    "### Importing the Required Libraries "
   ]
  },
  {
   "cell_type": "code",
   "execution_count": 1,
   "id": "f1e95b0d",
   "metadata": {
    "ExecuteTime": {
     "end_time": "2023-08-11T13:37:50.987751Z",
     "start_time": "2023-08-11T13:37:46.500672Z"
    }
   },
   "outputs": [],
   "source": [
    "# Importing the basic libraries\n",
    "import pandas as pd, numpy as np\n",
    "import matplotlib.pyplot as plt, seaborn as sns\n",
    "\n",
    "from sklearn.model_selection import train_test_split\n",
    "from sklearn.model_selection import cross_val_score\n",
    "from sklearn.metrics import accuracy_score, confusion_matrix\n",
    "\n",
    "from sklearn.model_selection import GridSearchCV\n",
    "from sklearn.neighbors import KNeighborsClassifier\n",
    "\n",
    "# importing warnings\n",
    "import warnings\n",
    "warnings.filterwarnings(\"ignore\")"
   ]
  },
  {
   "cell_type": "code",
   "execution_count": 2,
   "id": "ef65bd9c",
   "metadata": {
    "ExecuteTime": {
     "end_time": "2023-08-11T13:37:51.042532Z",
     "start_time": "2023-08-11T13:37:50.990162Z"
    }
   },
   "outputs": [
    {
     "data": {
      "text/html": [
       "<div>\n",
       "<style scoped>\n",
       "    .dataframe tbody tr th:only-of-type {\n",
       "        vertical-align: middle;\n",
       "    }\n",
       "\n",
       "    .dataframe tbody tr th {\n",
       "        vertical-align: top;\n",
       "    }\n",
       "\n",
       "    .dataframe thead th {\n",
       "        text-align: right;\n",
       "    }\n",
       "</style>\n",
       "<table border=\"1\" class=\"dataframe\">\n",
       "  <thead>\n",
       "    <tr style=\"text-align: right;\">\n",
       "      <th></th>\n",
       "      <th>animal name</th>\n",
       "      <th>hair</th>\n",
       "      <th>feathers</th>\n",
       "      <th>eggs</th>\n",
       "      <th>milk</th>\n",
       "      <th>airborne</th>\n",
       "      <th>aquatic</th>\n",
       "      <th>predator</th>\n",
       "      <th>toothed</th>\n",
       "      <th>backbone</th>\n",
       "      <th>breathes</th>\n",
       "      <th>venomous</th>\n",
       "      <th>fins</th>\n",
       "      <th>legs</th>\n",
       "      <th>tail</th>\n",
       "      <th>domestic</th>\n",
       "      <th>catsize</th>\n",
       "      <th>type</th>\n",
       "    </tr>\n",
       "  </thead>\n",
       "  <tbody>\n",
       "    <tr>\n",
       "      <th>0</th>\n",
       "      <td>aardvark</td>\n",
       "      <td>1</td>\n",
       "      <td>0</td>\n",
       "      <td>0</td>\n",
       "      <td>1</td>\n",
       "      <td>0</td>\n",
       "      <td>0</td>\n",
       "      <td>1</td>\n",
       "      <td>1</td>\n",
       "      <td>1</td>\n",
       "      <td>1</td>\n",
       "      <td>0</td>\n",
       "      <td>0</td>\n",
       "      <td>4</td>\n",
       "      <td>0</td>\n",
       "      <td>0</td>\n",
       "      <td>1</td>\n",
       "      <td>1</td>\n",
       "    </tr>\n",
       "    <tr>\n",
       "      <th>1</th>\n",
       "      <td>antelope</td>\n",
       "      <td>1</td>\n",
       "      <td>0</td>\n",
       "      <td>0</td>\n",
       "      <td>1</td>\n",
       "      <td>0</td>\n",
       "      <td>0</td>\n",
       "      <td>0</td>\n",
       "      <td>1</td>\n",
       "      <td>1</td>\n",
       "      <td>1</td>\n",
       "      <td>0</td>\n",
       "      <td>0</td>\n",
       "      <td>4</td>\n",
       "      <td>1</td>\n",
       "      <td>0</td>\n",
       "      <td>1</td>\n",
       "      <td>1</td>\n",
       "    </tr>\n",
       "    <tr>\n",
       "      <th>2</th>\n",
       "      <td>bass</td>\n",
       "      <td>0</td>\n",
       "      <td>0</td>\n",
       "      <td>1</td>\n",
       "      <td>0</td>\n",
       "      <td>0</td>\n",
       "      <td>1</td>\n",
       "      <td>1</td>\n",
       "      <td>1</td>\n",
       "      <td>1</td>\n",
       "      <td>0</td>\n",
       "      <td>0</td>\n",
       "      <td>1</td>\n",
       "      <td>0</td>\n",
       "      <td>1</td>\n",
       "      <td>0</td>\n",
       "      <td>0</td>\n",
       "      <td>4</td>\n",
       "    </tr>\n",
       "    <tr>\n",
       "      <th>3</th>\n",
       "      <td>bear</td>\n",
       "      <td>1</td>\n",
       "      <td>0</td>\n",
       "      <td>0</td>\n",
       "      <td>1</td>\n",
       "      <td>0</td>\n",
       "      <td>0</td>\n",
       "      <td>1</td>\n",
       "      <td>1</td>\n",
       "      <td>1</td>\n",
       "      <td>1</td>\n",
       "      <td>0</td>\n",
       "      <td>0</td>\n",
       "      <td>4</td>\n",
       "      <td>0</td>\n",
       "      <td>0</td>\n",
       "      <td>1</td>\n",
       "      <td>1</td>\n",
       "    </tr>\n",
       "    <tr>\n",
       "      <th>4</th>\n",
       "      <td>boar</td>\n",
       "      <td>1</td>\n",
       "      <td>0</td>\n",
       "      <td>0</td>\n",
       "      <td>1</td>\n",
       "      <td>0</td>\n",
       "      <td>0</td>\n",
       "      <td>1</td>\n",
       "      <td>1</td>\n",
       "      <td>1</td>\n",
       "      <td>1</td>\n",
       "      <td>0</td>\n",
       "      <td>0</td>\n",
       "      <td>4</td>\n",
       "      <td>1</td>\n",
       "      <td>0</td>\n",
       "      <td>1</td>\n",
       "      <td>1</td>\n",
       "    </tr>\n",
       "    <tr>\n",
       "      <th>...</th>\n",
       "      <td>...</td>\n",
       "      <td>...</td>\n",
       "      <td>...</td>\n",
       "      <td>...</td>\n",
       "      <td>...</td>\n",
       "      <td>...</td>\n",
       "      <td>...</td>\n",
       "      <td>...</td>\n",
       "      <td>...</td>\n",
       "      <td>...</td>\n",
       "      <td>...</td>\n",
       "      <td>...</td>\n",
       "      <td>...</td>\n",
       "      <td>...</td>\n",
       "      <td>...</td>\n",
       "      <td>...</td>\n",
       "      <td>...</td>\n",
       "      <td>...</td>\n",
       "    </tr>\n",
       "    <tr>\n",
       "      <th>96</th>\n",
       "      <td>wallaby</td>\n",
       "      <td>1</td>\n",
       "      <td>0</td>\n",
       "      <td>0</td>\n",
       "      <td>1</td>\n",
       "      <td>0</td>\n",
       "      <td>0</td>\n",
       "      <td>0</td>\n",
       "      <td>1</td>\n",
       "      <td>1</td>\n",
       "      <td>1</td>\n",
       "      <td>0</td>\n",
       "      <td>0</td>\n",
       "      <td>2</td>\n",
       "      <td>1</td>\n",
       "      <td>0</td>\n",
       "      <td>1</td>\n",
       "      <td>1</td>\n",
       "    </tr>\n",
       "    <tr>\n",
       "      <th>97</th>\n",
       "      <td>wasp</td>\n",
       "      <td>1</td>\n",
       "      <td>0</td>\n",
       "      <td>1</td>\n",
       "      <td>0</td>\n",
       "      <td>1</td>\n",
       "      <td>0</td>\n",
       "      <td>0</td>\n",
       "      <td>0</td>\n",
       "      <td>0</td>\n",
       "      <td>1</td>\n",
       "      <td>1</td>\n",
       "      <td>0</td>\n",
       "      <td>6</td>\n",
       "      <td>0</td>\n",
       "      <td>0</td>\n",
       "      <td>0</td>\n",
       "      <td>6</td>\n",
       "    </tr>\n",
       "    <tr>\n",
       "      <th>98</th>\n",
       "      <td>wolf</td>\n",
       "      <td>1</td>\n",
       "      <td>0</td>\n",
       "      <td>0</td>\n",
       "      <td>1</td>\n",
       "      <td>0</td>\n",
       "      <td>0</td>\n",
       "      <td>1</td>\n",
       "      <td>1</td>\n",
       "      <td>1</td>\n",
       "      <td>1</td>\n",
       "      <td>0</td>\n",
       "      <td>0</td>\n",
       "      <td>4</td>\n",
       "      <td>1</td>\n",
       "      <td>0</td>\n",
       "      <td>1</td>\n",
       "      <td>1</td>\n",
       "    </tr>\n",
       "    <tr>\n",
       "      <th>99</th>\n",
       "      <td>worm</td>\n",
       "      <td>0</td>\n",
       "      <td>0</td>\n",
       "      <td>1</td>\n",
       "      <td>0</td>\n",
       "      <td>0</td>\n",
       "      <td>0</td>\n",
       "      <td>0</td>\n",
       "      <td>0</td>\n",
       "      <td>0</td>\n",
       "      <td>1</td>\n",
       "      <td>0</td>\n",
       "      <td>0</td>\n",
       "      <td>0</td>\n",
       "      <td>0</td>\n",
       "      <td>0</td>\n",
       "      <td>0</td>\n",
       "      <td>7</td>\n",
       "    </tr>\n",
       "    <tr>\n",
       "      <th>100</th>\n",
       "      <td>wren</td>\n",
       "      <td>0</td>\n",
       "      <td>1</td>\n",
       "      <td>1</td>\n",
       "      <td>0</td>\n",
       "      <td>1</td>\n",
       "      <td>0</td>\n",
       "      <td>0</td>\n",
       "      <td>0</td>\n",
       "      <td>1</td>\n",
       "      <td>1</td>\n",
       "      <td>0</td>\n",
       "      <td>0</td>\n",
       "      <td>2</td>\n",
       "      <td>1</td>\n",
       "      <td>0</td>\n",
       "      <td>0</td>\n",
       "      <td>2</td>\n",
       "    </tr>\n",
       "  </tbody>\n",
       "</table>\n",
       "<p>101 rows × 18 columns</p>\n",
       "</div>"
      ],
      "text/plain": [
       "    animal name  hair  feathers  eggs  milk  airborne  aquatic  predator  \\\n",
       "0      aardvark     1         0     0     1         0        0         1   \n",
       "1      antelope     1         0     0     1         0        0         0   \n",
       "2          bass     0         0     1     0         0        1         1   \n",
       "3          bear     1         0     0     1         0        0         1   \n",
       "4          boar     1         0     0     1         0        0         1   \n",
       "..          ...   ...       ...   ...   ...       ...      ...       ...   \n",
       "96      wallaby     1         0     0     1         0        0         0   \n",
       "97         wasp     1         0     1     0         1        0         0   \n",
       "98         wolf     1         0     0     1         0        0         1   \n",
       "99         worm     0         0     1     0         0        0         0   \n",
       "100        wren     0         1     1     0         1        0         0   \n",
       "\n",
       "     toothed  backbone  breathes  venomous  fins  legs  tail  domestic  \\\n",
       "0          1         1         1         0     0     4     0         0   \n",
       "1          1         1         1         0     0     4     1         0   \n",
       "2          1         1         0         0     1     0     1         0   \n",
       "3          1         1         1         0     0     4     0         0   \n",
       "4          1         1         1         0     0     4     1         0   \n",
       "..       ...       ...       ...       ...   ...   ...   ...       ...   \n",
       "96         1         1         1         0     0     2     1         0   \n",
       "97         0         0         1         1     0     6     0         0   \n",
       "98         1         1         1         0     0     4     1         0   \n",
       "99         0         0         1         0     0     0     0         0   \n",
       "100        0         1         1         0     0     2     1         0   \n",
       "\n",
       "     catsize  type  \n",
       "0          1     1  \n",
       "1          1     1  \n",
       "2          0     4  \n",
       "3          1     1  \n",
       "4          1     1  \n",
       "..       ...   ...  \n",
       "96         1     1  \n",
       "97         0     6  \n",
       "98         1     1  \n",
       "99         0     7  \n",
       "100        0     2  \n",
       "\n",
       "[101 rows x 18 columns]"
      ]
     },
     "execution_count": 2,
     "metadata": {},
     "output_type": "execute_result"
    }
   ],
   "source": [
    "# Reading the dataset\n",
    "zoo = pd.read_csv(\"Zoo.csv\")\n",
    "zoo"
   ]
  },
  {
   "cell_type": "markdown",
   "id": "ecf06d37",
   "metadata": {},
   "source": [
    "### Performing EDA on the data"
   ]
  },
  {
   "cell_type": "code",
   "execution_count": 3,
   "id": "27417e3c",
   "metadata": {
    "ExecuteTime": {
     "end_time": "2023-08-11T13:37:51.071379Z",
     "start_time": "2023-08-11T13:37:51.045149Z"
    }
   },
   "outputs": [
    {
     "name": "stdout",
     "output_type": "stream",
     "text": [
      "<class 'pandas.core.frame.DataFrame'>\n",
      "RangeIndex: 101 entries, 0 to 100\n",
      "Data columns (total 18 columns):\n",
      " #   Column       Non-Null Count  Dtype \n",
      "---  ------       --------------  ----- \n",
      " 0   animal name  101 non-null    object\n",
      " 1   hair         101 non-null    int64 \n",
      " 2   feathers     101 non-null    int64 \n",
      " 3   eggs         101 non-null    int64 \n",
      " 4   milk         101 non-null    int64 \n",
      " 5   airborne     101 non-null    int64 \n",
      " 6   aquatic      101 non-null    int64 \n",
      " 7   predator     101 non-null    int64 \n",
      " 8   toothed      101 non-null    int64 \n",
      " 9   backbone     101 non-null    int64 \n",
      " 10  breathes     101 non-null    int64 \n",
      " 11  venomous     101 non-null    int64 \n",
      " 12  fins         101 non-null    int64 \n",
      " 13  legs         101 non-null    int64 \n",
      " 14  tail         101 non-null    int64 \n",
      " 15  domestic     101 non-null    int64 \n",
      " 16  catsize      101 non-null    int64 \n",
      " 17  type         101 non-null    int64 \n",
      "dtypes: int64(17), object(1)\n",
      "memory usage: 14.3+ KB\n"
     ]
    }
   ],
   "source": [
    "# to get the information of the datafile\n",
    "zoo.info()"
   ]
  },
  {
   "cell_type": "code",
   "execution_count": 4,
   "id": "da2fd87d",
   "metadata": {
    "ExecuteTime": {
     "end_time": "2023-08-11T13:37:51.127213Z",
     "start_time": "2023-08-11T13:37:51.073951Z"
    }
   },
   "outputs": [
    {
     "data": {
      "text/html": [
       "<div>\n",
       "<style scoped>\n",
       "    .dataframe tbody tr th:only-of-type {\n",
       "        vertical-align: middle;\n",
       "    }\n",
       "\n",
       "    .dataframe tbody tr th {\n",
       "        vertical-align: top;\n",
       "    }\n",
       "\n",
       "    .dataframe thead th {\n",
       "        text-align: right;\n",
       "    }\n",
       "</style>\n",
       "<table border=\"1\" class=\"dataframe\">\n",
       "  <thead>\n",
       "    <tr style=\"text-align: right;\">\n",
       "      <th></th>\n",
       "      <th>hair</th>\n",
       "      <th>feathers</th>\n",
       "      <th>eggs</th>\n",
       "      <th>milk</th>\n",
       "      <th>airborne</th>\n",
       "      <th>aquatic</th>\n",
       "      <th>predator</th>\n",
       "      <th>toothed</th>\n",
       "      <th>backbone</th>\n",
       "      <th>breathes</th>\n",
       "      <th>venomous</th>\n",
       "      <th>fins</th>\n",
       "      <th>legs</th>\n",
       "      <th>tail</th>\n",
       "      <th>domestic</th>\n",
       "      <th>catsize</th>\n",
       "      <th>type</th>\n",
       "    </tr>\n",
       "  </thead>\n",
       "  <tbody>\n",
       "    <tr>\n",
       "      <th>count</th>\n",
       "      <td>101.000000</td>\n",
       "      <td>101.000000</td>\n",
       "      <td>101.000000</td>\n",
       "      <td>101.000000</td>\n",
       "      <td>101.000000</td>\n",
       "      <td>101.000000</td>\n",
       "      <td>101.000000</td>\n",
       "      <td>101.000000</td>\n",
       "      <td>101.000000</td>\n",
       "      <td>101.000000</td>\n",
       "      <td>101.000000</td>\n",
       "      <td>101.000000</td>\n",
       "      <td>101.000000</td>\n",
       "      <td>101.000000</td>\n",
       "      <td>101.000000</td>\n",
       "      <td>101.000000</td>\n",
       "      <td>101.000000</td>\n",
       "    </tr>\n",
       "    <tr>\n",
       "      <th>mean</th>\n",
       "      <td>0.425743</td>\n",
       "      <td>0.198020</td>\n",
       "      <td>0.584158</td>\n",
       "      <td>0.405941</td>\n",
       "      <td>0.237624</td>\n",
       "      <td>0.356436</td>\n",
       "      <td>0.554455</td>\n",
       "      <td>0.603960</td>\n",
       "      <td>0.821782</td>\n",
       "      <td>0.792079</td>\n",
       "      <td>0.079208</td>\n",
       "      <td>0.168317</td>\n",
       "      <td>2.841584</td>\n",
       "      <td>0.742574</td>\n",
       "      <td>0.128713</td>\n",
       "      <td>0.435644</td>\n",
       "      <td>2.831683</td>\n",
       "    </tr>\n",
       "    <tr>\n",
       "      <th>std</th>\n",
       "      <td>0.496921</td>\n",
       "      <td>0.400495</td>\n",
       "      <td>0.495325</td>\n",
       "      <td>0.493522</td>\n",
       "      <td>0.427750</td>\n",
       "      <td>0.481335</td>\n",
       "      <td>0.499505</td>\n",
       "      <td>0.491512</td>\n",
       "      <td>0.384605</td>\n",
       "      <td>0.407844</td>\n",
       "      <td>0.271410</td>\n",
       "      <td>0.376013</td>\n",
       "      <td>2.033385</td>\n",
       "      <td>0.439397</td>\n",
       "      <td>0.336552</td>\n",
       "      <td>0.498314</td>\n",
       "      <td>2.102709</td>\n",
       "    </tr>\n",
       "    <tr>\n",
       "      <th>min</th>\n",
       "      <td>0.000000</td>\n",
       "      <td>0.000000</td>\n",
       "      <td>0.000000</td>\n",
       "      <td>0.000000</td>\n",
       "      <td>0.000000</td>\n",
       "      <td>0.000000</td>\n",
       "      <td>0.000000</td>\n",
       "      <td>0.000000</td>\n",
       "      <td>0.000000</td>\n",
       "      <td>0.000000</td>\n",
       "      <td>0.000000</td>\n",
       "      <td>0.000000</td>\n",
       "      <td>0.000000</td>\n",
       "      <td>0.000000</td>\n",
       "      <td>0.000000</td>\n",
       "      <td>0.000000</td>\n",
       "      <td>1.000000</td>\n",
       "    </tr>\n",
       "    <tr>\n",
       "      <th>25%</th>\n",
       "      <td>0.000000</td>\n",
       "      <td>0.000000</td>\n",
       "      <td>0.000000</td>\n",
       "      <td>0.000000</td>\n",
       "      <td>0.000000</td>\n",
       "      <td>0.000000</td>\n",
       "      <td>0.000000</td>\n",
       "      <td>0.000000</td>\n",
       "      <td>1.000000</td>\n",
       "      <td>1.000000</td>\n",
       "      <td>0.000000</td>\n",
       "      <td>0.000000</td>\n",
       "      <td>2.000000</td>\n",
       "      <td>0.000000</td>\n",
       "      <td>0.000000</td>\n",
       "      <td>0.000000</td>\n",
       "      <td>1.000000</td>\n",
       "    </tr>\n",
       "    <tr>\n",
       "      <th>50%</th>\n",
       "      <td>0.000000</td>\n",
       "      <td>0.000000</td>\n",
       "      <td>1.000000</td>\n",
       "      <td>0.000000</td>\n",
       "      <td>0.000000</td>\n",
       "      <td>0.000000</td>\n",
       "      <td>1.000000</td>\n",
       "      <td>1.000000</td>\n",
       "      <td>1.000000</td>\n",
       "      <td>1.000000</td>\n",
       "      <td>0.000000</td>\n",
       "      <td>0.000000</td>\n",
       "      <td>4.000000</td>\n",
       "      <td>1.000000</td>\n",
       "      <td>0.000000</td>\n",
       "      <td>0.000000</td>\n",
       "      <td>2.000000</td>\n",
       "    </tr>\n",
       "    <tr>\n",
       "      <th>75%</th>\n",
       "      <td>1.000000</td>\n",
       "      <td>0.000000</td>\n",
       "      <td>1.000000</td>\n",
       "      <td>1.000000</td>\n",
       "      <td>0.000000</td>\n",
       "      <td>1.000000</td>\n",
       "      <td>1.000000</td>\n",
       "      <td>1.000000</td>\n",
       "      <td>1.000000</td>\n",
       "      <td>1.000000</td>\n",
       "      <td>0.000000</td>\n",
       "      <td>0.000000</td>\n",
       "      <td>4.000000</td>\n",
       "      <td>1.000000</td>\n",
       "      <td>0.000000</td>\n",
       "      <td>1.000000</td>\n",
       "      <td>4.000000</td>\n",
       "    </tr>\n",
       "    <tr>\n",
       "      <th>max</th>\n",
       "      <td>1.000000</td>\n",
       "      <td>1.000000</td>\n",
       "      <td>1.000000</td>\n",
       "      <td>1.000000</td>\n",
       "      <td>1.000000</td>\n",
       "      <td>1.000000</td>\n",
       "      <td>1.000000</td>\n",
       "      <td>1.000000</td>\n",
       "      <td>1.000000</td>\n",
       "      <td>1.000000</td>\n",
       "      <td>1.000000</td>\n",
       "      <td>1.000000</td>\n",
       "      <td>8.000000</td>\n",
       "      <td>1.000000</td>\n",
       "      <td>1.000000</td>\n",
       "      <td>1.000000</td>\n",
       "      <td>7.000000</td>\n",
       "    </tr>\n",
       "  </tbody>\n",
       "</table>\n",
       "</div>"
      ],
      "text/plain": [
       "             hair    feathers        eggs        milk    airborne     aquatic  \\\n",
       "count  101.000000  101.000000  101.000000  101.000000  101.000000  101.000000   \n",
       "mean     0.425743    0.198020    0.584158    0.405941    0.237624    0.356436   \n",
       "std      0.496921    0.400495    0.495325    0.493522    0.427750    0.481335   \n",
       "min      0.000000    0.000000    0.000000    0.000000    0.000000    0.000000   \n",
       "25%      0.000000    0.000000    0.000000    0.000000    0.000000    0.000000   \n",
       "50%      0.000000    0.000000    1.000000    0.000000    0.000000    0.000000   \n",
       "75%      1.000000    0.000000    1.000000    1.000000    0.000000    1.000000   \n",
       "max      1.000000    1.000000    1.000000    1.000000    1.000000    1.000000   \n",
       "\n",
       "         predator     toothed    backbone    breathes    venomous        fins  \\\n",
       "count  101.000000  101.000000  101.000000  101.000000  101.000000  101.000000   \n",
       "mean     0.554455    0.603960    0.821782    0.792079    0.079208    0.168317   \n",
       "std      0.499505    0.491512    0.384605    0.407844    0.271410    0.376013   \n",
       "min      0.000000    0.000000    0.000000    0.000000    0.000000    0.000000   \n",
       "25%      0.000000    0.000000    1.000000    1.000000    0.000000    0.000000   \n",
       "50%      1.000000    1.000000    1.000000    1.000000    0.000000    0.000000   \n",
       "75%      1.000000    1.000000    1.000000    1.000000    0.000000    0.000000   \n",
       "max      1.000000    1.000000    1.000000    1.000000    1.000000    1.000000   \n",
       "\n",
       "             legs        tail    domestic     catsize        type  \n",
       "count  101.000000  101.000000  101.000000  101.000000  101.000000  \n",
       "mean     2.841584    0.742574    0.128713    0.435644    2.831683  \n",
       "std      2.033385    0.439397    0.336552    0.498314    2.102709  \n",
       "min      0.000000    0.000000    0.000000    0.000000    1.000000  \n",
       "25%      2.000000    0.000000    0.000000    0.000000    1.000000  \n",
       "50%      4.000000    1.000000    0.000000    0.000000    2.000000  \n",
       "75%      4.000000    1.000000    0.000000    1.000000    4.000000  \n",
       "max      8.000000    1.000000    1.000000    1.000000    7.000000  "
      ]
     },
     "execution_count": 4,
     "metadata": {},
     "output_type": "execute_result"
    }
   ],
   "source": [
    "# summarizing the datafile\n",
    "zoo.describe()"
   ]
  },
  {
   "cell_type": "code",
   "execution_count": 5,
   "id": "ceabdf72",
   "metadata": {
    "ExecuteTime": {
     "end_time": "2023-08-11T13:37:51.143139Z",
     "start_time": "2023-08-11T13:37:51.129386Z"
    }
   },
   "outputs": [
    {
     "data": {
      "text/plain": [
       "animal name    0\n",
       "hair           0\n",
       "feathers       0\n",
       "eggs           0\n",
       "milk           0\n",
       "airborne       0\n",
       "aquatic        0\n",
       "predator       0\n",
       "toothed        0\n",
       "backbone       0\n",
       "breathes       0\n",
       "venomous       0\n",
       "fins           0\n",
       "legs           0\n",
       "tail           0\n",
       "domestic       0\n",
       "catsize        0\n",
       "type           0\n",
       "dtype: int64"
      ]
     },
     "execution_count": 5,
     "metadata": {},
     "output_type": "execute_result"
    }
   ],
   "source": [
    "# to check the null values of the data\n",
    "zoo.isnull().sum()"
   ]
  },
  {
   "cell_type": "code",
   "execution_count": 6,
   "id": "0a7dd397",
   "metadata": {
    "ExecuteTime": {
     "end_time": "2023-08-11T13:37:51.159059Z",
     "start_time": "2023-08-11T13:37:51.145315Z"
    }
   },
   "outputs": [
    {
     "name": "stdout",
     "output_type": "stream",
     "text": [
      "Dimensions - (101, 18)\n",
      "Column names - Index(['animal name', 'hair', 'feathers', 'eggs', 'milk', 'airborne',\n",
      "       'aquatic', 'predator', 'toothed', 'backbone', 'breathes', 'venomous',\n",
      "       'fins', 'legs', 'tail', 'domestic', 'catsize', 'type'],\n",
      "      dtype='object')\n"
     ]
    }
   ],
   "source": [
    "print(\"Dimensions -\",zoo.shape)\n",
    "print(\"Column names -\",zoo.columns)"
   ]
  },
  {
   "cell_type": "code",
   "execution_count": 7,
   "id": "25da347c",
   "metadata": {
    "ExecuteTime": {
     "end_time": "2023-08-11T13:37:51.190660Z",
     "start_time": "2023-08-11T13:37:51.159059Z"
    }
   },
   "outputs": [
    {
     "data": {
      "text/html": [
       "<div>\n",
       "<style scoped>\n",
       "    .dataframe tbody tr th:only-of-type {\n",
       "        vertical-align: middle;\n",
       "    }\n",
       "\n",
       "    .dataframe tbody tr th {\n",
       "        vertical-align: top;\n",
       "    }\n",
       "\n",
       "    .dataframe thead th {\n",
       "        text-align: right;\n",
       "    }\n",
       "</style>\n",
       "<table border=\"1\" class=\"dataframe\">\n",
       "  <thead>\n",
       "    <tr style=\"text-align: right;\">\n",
       "      <th>type</th>\n",
       "      <th>1</th>\n",
       "      <th>2</th>\n",
       "      <th>3</th>\n",
       "      <th>4</th>\n",
       "      <th>5</th>\n",
       "      <th>6</th>\n",
       "      <th>7</th>\n",
       "    </tr>\n",
       "    <tr>\n",
       "      <th>legs</th>\n",
       "      <th></th>\n",
       "      <th></th>\n",
       "      <th></th>\n",
       "      <th></th>\n",
       "      <th></th>\n",
       "      <th></th>\n",
       "      <th></th>\n",
       "    </tr>\n",
       "  </thead>\n",
       "  <tbody>\n",
       "    <tr>\n",
       "      <th>0</th>\n",
       "      <td>3</td>\n",
       "      <td>0</td>\n",
       "      <td>3</td>\n",
       "      <td>13</td>\n",
       "      <td>0</td>\n",
       "      <td>0</td>\n",
       "      <td>4</td>\n",
       "    </tr>\n",
       "    <tr>\n",
       "      <th>2</th>\n",
       "      <td>7</td>\n",
       "      <td>20</td>\n",
       "      <td>0</td>\n",
       "      <td>0</td>\n",
       "      <td>0</td>\n",
       "      <td>0</td>\n",
       "      <td>0</td>\n",
       "    </tr>\n",
       "    <tr>\n",
       "      <th>4</th>\n",
       "      <td>31</td>\n",
       "      <td>0</td>\n",
       "      <td>2</td>\n",
       "      <td>0</td>\n",
       "      <td>4</td>\n",
       "      <td>0</td>\n",
       "      <td>1</td>\n",
       "    </tr>\n",
       "    <tr>\n",
       "      <th>5</th>\n",
       "      <td>0</td>\n",
       "      <td>0</td>\n",
       "      <td>0</td>\n",
       "      <td>0</td>\n",
       "      <td>0</td>\n",
       "      <td>0</td>\n",
       "      <td>1</td>\n",
       "    </tr>\n",
       "    <tr>\n",
       "      <th>6</th>\n",
       "      <td>0</td>\n",
       "      <td>0</td>\n",
       "      <td>0</td>\n",
       "      <td>0</td>\n",
       "      <td>0</td>\n",
       "      <td>8</td>\n",
       "      <td>2</td>\n",
       "    </tr>\n",
       "    <tr>\n",
       "      <th>8</th>\n",
       "      <td>0</td>\n",
       "      <td>0</td>\n",
       "      <td>0</td>\n",
       "      <td>0</td>\n",
       "      <td>0</td>\n",
       "      <td>0</td>\n",
       "      <td>2</td>\n",
       "    </tr>\n",
       "  </tbody>\n",
       "</table>\n",
       "</div>"
      ],
      "text/plain": [
       "type   1   2  3   4  5  6  7\n",
       "legs                        \n",
       "0      3   0  3  13  0  0  4\n",
       "2      7  20  0   0  0  0  0\n",
       "4     31   0  2   0  4  0  1\n",
       "5      0   0  0   0  0  0  1\n",
       "6      0   0  0   0  0  8  2\n",
       "8      0   0  0   0  0  0  2"
      ]
     },
     "execution_count": 7,
     "metadata": {},
     "output_type": "execute_result"
    }
   ],
   "source": [
    "# summarising the information using crosstab\n",
    "pd.crosstab(zoo['legs'],zoo['type'])"
   ]
  },
  {
   "cell_type": "code",
   "execution_count": 8,
   "id": "f5c197f1",
   "metadata": {
    "ExecuteTime": {
     "end_time": "2023-08-11T13:37:51.495638Z",
     "start_time": "2023-08-11T13:37:51.190660Z"
    }
   },
   "outputs": [
    {
     "data": {
      "image/png": "[encoded data removed]",
      "text/plain": [
       "<Figure size 360x216 with 1 Axes>"
      ]
     },
     "metadata": {
      "needs_background": "light"
     },
     "output_type": "display_data"
    }
   ],
   "source": [
    "# Plotting barplot using crosstab function\n",
    "plt.figure(figsize=(5,3))\n",
    "pd.crosstab(zoo['hair'],zoo['type']).mean().plot(kind='bar');"
   ]
  },
  {
   "cell_type": "code",
   "execution_count": 9,
   "id": "1ef1921c",
   "metadata": {
    "ExecuteTime": {
     "end_time": "2023-08-11T13:37:51.511222Z",
     "start_time": "2023-08-11T13:37:51.498237Z"
    }
   },
   "outputs": [
    {
     "data": {
      "text/plain": [
       "animal name    0.0\n",
       "hair           0.0\n",
       "feathers       0.0\n",
       "eggs           0.0\n",
       "milk           0.0\n",
       "airborne       0.0\n",
       "aquatic        0.0\n",
       "predator       0.0\n",
       "toothed        0.0\n",
       "backbone       0.0\n",
       "breathes       0.0\n",
       "venomous       0.0\n",
       "fins           0.0\n",
       "legs           0.0\n",
       "tail           0.0\n",
       "domestic       0.0\n",
       "catsize        0.0\n",
       "type           0.0\n",
       "dtype: float64"
      ]
     },
     "execution_count": 9,
     "metadata": {},
     "output_type": "execute_result"
    }
   ],
   "source": [
    "# to check the number of duplicates present in the data\n",
    "zoo[zoo.duplicated()].sum()"
   ]
  },
  {
   "cell_type": "markdown",
   "id": "7e103722",
   "metadata": {},
   "source": [
    "### Train and Test Split\n",
    "    Splitting the data into Train and Test data"
   ]
  },
  {
   "cell_type": "code",
   "execution_count": 10,
   "id": "d42207af",
   "metadata": {
    "ExecuteTime": {
     "end_time": "2023-08-11T13:37:51.526918Z",
     "start_time": "2023-08-11T13:37:51.511222Z"
    }
   },
   "outputs": [],
   "source": [
    "X = zoo.iloc[:,1:17]\n",
    "y = zoo.iloc[:,17]"
   ]
  },
  {
   "cell_type": "code",
   "execution_count": 11,
   "id": "f96074e2",
   "metadata": {
    "ExecuteTime": {
     "end_time": "2023-08-11T13:37:51.542809Z",
     "start_time": "2023-08-11T13:37:51.530261Z"
    }
   },
   "outputs": [],
   "source": [
    "X_train, X_test, y_train, y_test = train_test_split(X, y, test_size=0.33, shuffle=True)"
   ]
  },
  {
   "cell_type": "markdown",
   "id": "e3e4eeb6",
   "metadata": {},
   "source": [
    "### Grid Search Algorithm for Tuning"
   ]
  },
  {
   "cell_type": "code",
   "execution_count": 12,
   "id": "42c69642",
   "metadata": {
    "ExecuteTime": {
     "end_time": "2023-08-11T13:37:51.557969Z",
     "start_time": "2023-08-11T13:37:51.542809Z"
    }
   },
   "outputs": [],
   "source": [
    "from sklearn.model_selection import GridSearchCV\n",
    "# Creating array of integers from 1 to 39\n",
    "n_neigh = np.array(range(1,40))\n",
    "param_grid = dict(n_neighbors = n_neigh)"
   ]
  },
  {
   "cell_type": "code",
   "execution_count": 13,
   "id": "f9915d37",
   "metadata": {
    "ExecuteTime": {
     "end_time": "2023-08-11T13:37:53.678306Z",
     "start_time": "2023-08-11T13:37:51.559763Z"
    }
   },
   "outputs": [
    {
     "data": {
      "text/plain": [
       "GridSearchCV(estimator=KNeighborsClassifier(),\n",
       "             param_grid={'n_neighbors': array([ 1,  2,  3,  4,  5,  6,  7,  8,  9, 10, 11, 12, 13, 14, 15, 16, 17,\n",
       "       18, 19, 20, 21, 22, 23, 24, 25, 26, 27, 28, 29, 30, 31, 32, 33, 34,\n",
       "       35, 36, 37, 38, 39])})"
      ]
     },
     "execution_count": 13,
     "metadata": {},
     "output_type": "execute_result"
    }
   ],
   "source": [
    "# Instantiate a K-Nearest Neighbors classifier\n",
    "model = KNeighborsClassifier()\n",
    "grid = GridSearchCV(estimator=model, param_grid=param_grid)\n",
    "grid.fit(X,y)"
   ]
  },
  {
   "cell_type": "code",
   "execution_count": 14,
   "id": "cbfea87b",
   "metadata": {
    "ExecuteTime": {
     "end_time": "2023-08-11T13:37:53.705567Z",
     "start_time": "2023-08-11T13:37:53.688489Z"
    }
   },
   "outputs": [
    {
     "name": "stdout",
     "output_type": "stream",
     "text": [
      "0.97\n",
      "{'n_neighbors': 1}\n"
     ]
    }
   ],
   "source": [
    "# to print best score\n",
    "print(grid.best_score_)\n",
    "# to print best parameter\n",
    "print(grid.best_params_)"
   ]
  },
  {
   "cell_type": "code",
   "execution_count": 15,
   "id": "f0c11bc3",
   "metadata": {
    "ExecuteTime": {
     "end_time": "2023-08-11T13:37:56.392698Z",
     "start_time": "2023-08-11T13:37:53.710616Z"
    }
   },
   "outputs": [
    {
     "data": {
      "image/png": "[encoded data removed]",
      "text/plain": [
       "<Figure size 360x216 with 1 Axes>"
      ]
     },
     "metadata": {
      "needs_background": "light"
     },
     "output_type": "display_data"
    }
   ],
   "source": [
    "# Visualizing the accuracies of different K values\n",
    "# Choose k between 1 - 41\n",
    "k_range = range(1,41)\n",
    "k_scores = []\n",
    "# to calculate different k in models using iteration\n",
    "# then returning the average accuracy based on the cross validation\n",
    "for k in k_range:\n",
    "    knn = KNeighborsClassifier(n_neighbors=k)\n",
    "    scores = cross_val_score(knn, X, y, cv=5)\n",
    "    k_scores.append(scores.mean())\n",
    "#plotting\n",
    "plt.figure(figsize=(5,3))\n",
    "plt.plot(k_range, k_scores)\n",
    "plt.xlabel(\"Value of K for KNN\")\n",
    "plt.ylabel(\"Cross Validated Accuracy\")\n",
    "plt.show()"
   ]
  },
  {
   "cell_type": "markdown",
   "id": "66c70594",
   "metadata": {},
   "source": [
    "### Builiding the Model\n",
    "    Using K - Nearest Neighbors "
   ]
  },
  {
   "cell_type": "code",
   "execution_count": 16,
   "id": "0aa783e3",
   "metadata": {
    "ExecuteTime": {
     "end_time": "2023-08-11T13:37:56.417540Z",
     "start_time": "2023-08-11T13:37:56.397189Z"
    }
   },
   "outputs": [
    {
     "data": {
      "text/plain": [
       "KNeighborsClassifier(n_neighbors=1)"
      ]
     },
     "execution_count": 16,
     "metadata": {},
     "output_type": "execute_result"
    }
   ],
   "source": [
    "# Fitting the K - Nearest Neighbors model\n",
    "Knn = KNeighborsClassifier(n_neighbors=1)\n",
    "Knn.fit(X_train, y_train)"
   ]
  },
  {
   "cell_type": "code",
   "execution_count": 17,
   "id": "1df25734",
   "metadata": {
    "ExecuteTime": {
     "end_time": "2023-08-11T13:37:56.445607Z",
     "start_time": "2023-08-11T13:37:56.417540Z"
    }
   },
   "outputs": [
    {
     "data": {
      "text/plain": [
       "array([1, 1, 7, 1, 5, 2, 2, 1, 2, 1, 1, 6, 2, 2, 1, 7, 6, 1, 1, 1, 7, 6,\n",
       "       6, 1, 1, 1, 2, 6, 4, 5, 4, 4, 2, 1], dtype=int64)"
      ]
     },
     "execution_count": 17,
     "metadata": {},
     "output_type": "execute_result"
    }
   ],
   "source": [
    "# to get the predictions\n",
    "pred = Knn.predict(X_test)\n",
    "pred"
   ]
  },
  {
   "cell_type": "code",
   "execution_count": 18,
   "id": "c8f04660",
   "metadata": {
    "ExecuteTime": {
     "end_time": "2023-08-11T13:37:56.470934Z",
     "start_time": "2023-08-11T13:37:56.450679Z"
    }
   },
   "outputs": [
    {
     "data": {
      "text/plain": [
       "array([[14,  0,  0,  0,  0,  0,  0],\n",
       "       [ 0,  7,  0,  0,  0,  0,  0],\n",
       "       [ 0,  0,  0,  0,  1,  0,  0],\n",
       "       [ 0,  0,  0,  3,  0,  0,  0],\n",
       "       [ 0,  0,  0,  0,  1,  0,  0],\n",
       "       [ 0,  0,  0,  0,  0,  4,  0],\n",
       "       [ 0,  0,  0,  0,  0,  1,  3]], dtype=int64)"
      ]
     },
     "execution_count": 18,
     "metadata": {},
     "output_type": "execute_result"
    }
   ],
   "source": [
    "# Confusion matrix for accuracy testing\n",
    "confusion_matrix(y_test, pred)"
   ]
  },
  {
   "cell_type": "code",
   "execution_count": 19,
   "id": "35e5d448",
   "metadata": {
    "ExecuteTime": {
     "end_time": "2023-08-11T13:37:56.486944Z",
     "start_time": "2023-08-11T13:37:56.470934Z"
    }
   },
   "outputs": [
    {
     "name": "stdout",
     "output_type": "stream",
     "text": [
      "94.11764705882352\n"
     ]
    }
   ],
   "source": [
    "# to get the accuracy score\n",
    "accuracy = accuracy_score(y_test, pred)\n",
    "print((accuracy)*100)"
   ]
  },
  {
   "cell_type": "code",
   "execution_count": 20,
   "id": "92b2360f",
   "metadata": {
    "ExecuteTime": {
     "end_time": "2023-08-11T13:37:56.520946Z",
     "start_time": "2023-08-11T13:37:56.491654Z"
    }
   },
   "outputs": [
    {
     "name": "stdout",
     "output_type": "stream",
     "text": [
      "The accuracy of the KNN classifier on test data is 94.12\n"
     ]
    }
   ],
   "source": [
    "print(\"The accuracy of the KNN classifier on test data is {:.2f}\".format(Knn.score(X_test, y_test)*100))"
   ]
  }
 ],
 "metadata": {
  "kernelspec": {
   "display_name": "Python 3 (ipykernel)",
   "language": "python",
   "name": "python3"
  },
  "language_info": {
   "codemirror_mode": {
    "name": "ipython",
    "version": 3
   },
   "file_extension": ".py",
   "mimetype": "text/x-python",
   "name": "python",
   "nbconvert_exporter": "python",
   "pygments_lexer": "ipython3",
   "version": "3.9.12"
  }
 },
 "nbformat": 4,
 "nbformat_minor": 5
}
